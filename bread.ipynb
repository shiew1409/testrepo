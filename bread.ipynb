{
 "cells": [
  {
   "cell_type": "code",
   "execution_count": null,
   "id": "be61b62d-4b56-41d4-b1d5-d7d4ac3544b6",
   "metadata": {
    "tags": []
   },
   "outputs": [],
   "source": []
  },
  {
   "cell_type": "code",
   "execution_count": null,
   "id": "31fabe3a-a711-43e7-8d7c-386281a2d2b3",
   "metadata": {},
   "outputs": [],
   "source": []
  },
  {
   "cell_type": "code",
   "execution_count": null,
   "id": "1409d967-bd96-4737-85e2-f3d9607db266",
   "metadata": {},
   "outputs": [],
   "source": []
  },
  {
   "cell_type": "code",
   "execution_count": null,
   "id": "af47a4b7-8ea5-41c2-a37e-979a6b8fb7e9",
   "metadata": {
    "tags": []
   },
   "outputs": [],
   "source": []
  },
  {
   "cell_type": "code",
   "execution_count": null,
   "id": "9a475d0a-7ed9-479a-8fbb-4ca3ad199b5d",
   "metadata": {},
   "outputs": [],
   "source": []
  },
  {
   "cell_type": "markdown",
   "id": "181a4fcf-ca50-4658-8ee9-594f548dfb9a",
   "metadata": {
    "tags": []
   },
   "source": [
    "1+1"
   ]
  },
  {
   "cell_type": "markdown",
   "id": "b97c6060-9907-45d1-a0f4-3a80e5473817",
   "metadata": {
    "tags": []
   },
   "source": [
    "Title\n",
    "\n"
   ]
  }
 ],
 "metadata": {
  "kernelspec": {
   "display_name": "Python 3",
   "language": "python",
   "name": "python3"
  },
  "language_info": {
   "codemirror_mode": {
    "name": "ipython",
    "version": 3
   },
   "file_extension": ".py",
   "mimetype": "text/x-python",
   "name": "python",
   "nbconvert_exporter": "python",
   "pygments_lexer": "ipython3",
   "version": "3.9.1"
  }
 },
 "nbformat": 4,
 "nbformat_minor": 5
}
